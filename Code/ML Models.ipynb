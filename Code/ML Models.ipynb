{
 "cells": [
  {
   "cell_type": "code",
   "execution_count": 40,
   "id": "2768acec",
   "metadata": {},
   "outputs": [
    {
     "data": {
      "text/html": [
       "<div>\n",
       "<style scoped>\n",
       "    .dataframe tbody tr th:only-of-type {\n",
       "        vertical-align: middle;\n",
       "    }\n",
       "\n",
       "    .dataframe tbody tr th {\n",
       "        vertical-align: top;\n",
       "    }\n",
       "\n",
       "    .dataframe thead th {\n",
       "        text-align: right;\n",
       "    }\n",
       "</style>\n",
       "<table border=\"1\" class=\"dataframe\">\n",
       "  <thead>\n",
       "    <tr style=\"text-align: right;\">\n",
       "      <th></th>\n",
       "      <th>date</th>\n",
       "      <th>date_id</th>\n",
       "      <th>wind</th>\n",
       "      <th>desc</th>\n",
       "      <th>temp</th>\n",
       "      <th>baro</th>\n",
       "      <th>hum</th>\n",
       "      <th>day</th>\n",
       "      <th>month</th>\n",
       "      <th>day_date</th>\n",
       "      <th>year</th>\n",
       "      <th>day_name</th>\n",
       "      <th>Start_hour</th>\n",
       "      <th>End_hour</th>\n",
       "    </tr>\n",
       "  </thead>\n",
       "  <tbody>\n",
       "    <tr>\n",
       "      <th>508</th>\n",
       "      <td>Monday 14 September 2009, 00.00 — 06.00</td>\n",
       "      <td>1.252886e+12</td>\n",
       "      <td>5.0</td>\n",
       "      <td>Passing clouds.</td>\n",
       "      <td>30.0</td>\n",
       "      <td>1009.0</td>\n",
       "      <td>82</td>\n",
       "      <td>2009-09-14</td>\n",
       "      <td>9</td>\n",
       "      <td>14</td>\n",
       "      <td>2009</td>\n",
       "      <td>0</td>\n",
       "      <td>00:00</td>\n",
       "      <td>06:00</td>\n",
       "    </tr>\n",
       "    <tr>\n",
       "      <th>509</th>\n",
       "      <td>Monday 14 September 2009, 06.00 — 12.00</td>\n",
       "      <td>1.252908e+12</td>\n",
       "      <td>8.0</td>\n",
       "      <td>Clear.</td>\n",
       "      <td>35.0</td>\n",
       "      <td>1011.0</td>\n",
       "      <td>64</td>\n",
       "      <td>2009-09-14</td>\n",
       "      <td>9</td>\n",
       "      <td>14</td>\n",
       "      <td>2009</td>\n",
       "      <td>0</td>\n",
       "      <td>06:00</td>\n",
       "      <td>12:00</td>\n",
       "    </tr>\n",
       "    <tr>\n",
       "      <th>510</th>\n",
       "      <td>Monday 14 September 2009, 12.00 — 18.00</td>\n",
       "      <td>1.252930e+12</td>\n",
       "      <td>6.0</td>\n",
       "      <td>Scattered clouds.</td>\n",
       "      <td>37.0</td>\n",
       "      <td>1007.0</td>\n",
       "      <td>53</td>\n",
       "      <td>2009-09-14</td>\n",
       "      <td>9</td>\n",
       "      <td>14</td>\n",
       "      <td>2009</td>\n",
       "      <td>0</td>\n",
       "      <td>12:00</td>\n",
       "      <td>18:00</td>\n",
       "    </tr>\n",
       "  </tbody>\n",
       "</table>\n",
       "</div>"
      ],
      "text/plain": [
       "                                        date       date_id  wind  \\\n",
       "508  Monday 14 September 2009, 00.00 — 06.00  1.252886e+12   5.0   \n",
       "509  Monday 14 September 2009, 06.00 — 12.00  1.252908e+12   8.0   \n",
       "510  Monday 14 September 2009, 12.00 — 18.00  1.252930e+12   6.0   \n",
       "\n",
       "                  desc  temp    baro  hum         day  month  day_date  year  \\\n",
       "508    Passing clouds.  30.0  1009.0   82  2009-09-14      9        14  2009   \n",
       "509             Clear.  35.0  1011.0   64  2009-09-14      9        14  2009   \n",
       "510  Scattered clouds.  37.0  1007.0   53  2009-09-14      9        14  2009   \n",
       "\n",
       "     day_name Start_hour End_hour  \n",
       "508         0      00:00    06:00  \n",
       "509         0      06:00    12:00  \n",
       "510         0      12:00    18:00  "
      ]
     },
     "execution_count": 40,
     "metadata": {},
     "output_type": "execute_result"
    }
   ],
   "source": [
    "import pandas as pd\n",
    "import numpy as np\n",
    "from sklearn.feature_extraction.text import CountVectorizer\n",
    "from sklearn.model_selection import train_test_split\n",
    "import sklearn\n",
    "from sklearn.model_selection import train_test_split\n",
    "from sklearn.metrics import accuracy_score\n",
    "from sklearn.linear_model import LinearRegression\n",
    "from sklearn import preprocessing\n",
    "import warnings\n",
    "warnings.filterwarnings('ignore')\n",
    "\n",
    "df=pd.read_csv('Clean15YearChennaiWeather.csv')\n",
    "df=df.sort_values(['year','month','day_name','day_date','Start_hour'],ascending=[True,True,True,True,True])\n",
    "df.head(3)"
   ]
  },
  {
   "cell_type": "code",
   "execution_count": 41,
   "id": "3ca9731c",
   "metadata": {},
   "outputs": [
    {
     "data": {
      "text/plain": [
       "Index(['date', 'date_id', 'wind', 'desc', 'temp', 'baro', 'hum', 'day',\n",
       "       'month', 'day_date', 'year', 'day_name', 'Start_hour', 'End_hour'],\n",
       "      dtype='object')"
      ]
     },
     "execution_count": 41,
     "metadata": {},
     "output_type": "execute_result"
    }
   ],
   "source": [
    "df.columns"
   ]
  },
  {
   "cell_type": "code",
   "execution_count": 42,
   "id": "ead4a458",
   "metadata": {},
   "outputs": [
    {
     "data": {
      "text/html": [
       "<div>\n",
       "<style scoped>\n",
       "    .dataframe tbody tr th:only-of-type {\n",
       "        vertical-align: middle;\n",
       "    }\n",
       "\n",
       "    .dataframe tbody tr th {\n",
       "        vertical-align: top;\n",
       "    }\n",
       "\n",
       "    .dataframe thead th {\n",
       "        text-align: right;\n",
       "    }\n",
       "</style>\n",
       "<table border=\"1\" class=\"dataframe\">\n",
       "  <thead>\n",
       "    <tr style=\"text-align: right;\">\n",
       "      <th></th>\n",
       "      <th>wind</th>\n",
       "      <th>temp</th>\n",
       "      <th>baro</th>\n",
       "      <th>hum</th>\n",
       "    </tr>\n",
       "  </thead>\n",
       "  <tbody>\n",
       "    <tr>\n",
       "      <th>wind</th>\n",
       "      <td>1.000000</td>\n",
       "      <td>0.547964</td>\n",
       "      <td>0.267167</td>\n",
       "      <td>-0.162249</td>\n",
       "    </tr>\n",
       "    <tr>\n",
       "      <th>temp</th>\n",
       "      <td>0.547964</td>\n",
       "      <td>1.000000</td>\n",
       "      <td>-0.216422</td>\n",
       "      <td>-0.829084</td>\n",
       "    </tr>\n",
       "    <tr>\n",
       "      <th>baro</th>\n",
       "      <td>0.267167</td>\n",
       "      <td>-0.216422</td>\n",
       "      <td>1.000000</td>\n",
       "      <td>0.726712</td>\n",
       "    </tr>\n",
       "    <tr>\n",
       "      <th>hum</th>\n",
       "      <td>-0.162249</td>\n",
       "      <td>-0.829084</td>\n",
       "      <td>0.726712</td>\n",
       "      <td>1.000000</td>\n",
       "    </tr>\n",
       "  </tbody>\n",
       "</table>\n",
       "</div>"
      ],
      "text/plain": [
       "          wind      temp      baro       hum\n",
       "wind  1.000000  0.547964  0.267167 -0.162249\n",
       "temp  0.547964  1.000000 -0.216422 -0.829084\n",
       "baro  0.267167 -0.216422  1.000000  0.726712\n",
       "hum  -0.162249 -0.829084  0.726712  1.000000"
      ]
     },
     "execution_count": 42,
     "metadata": {},
     "output_type": "execute_result"
    }
   ],
   "source": [
    "df[['wind','temp','baro','hum']].corr()"
   ]
  },
  {
   "cell_type": "code",
   "execution_count": 43,
   "id": "e9d42068",
   "metadata": {},
   "outputs": [
    {
     "data": {
      "text/plain": [
       "date           0\n",
       "date_id        0\n",
       "wind           0\n",
       "desc           0\n",
       "temp          30\n",
       "baro           0\n",
       "hum            0\n",
       "day            0\n",
       "month          0\n",
       "day_date       0\n",
       "year           0\n",
       "day_name       0\n",
       "Start_hour     0\n",
       "End_hour       0\n",
       "dtype: int64"
      ]
     },
     "execution_count": 43,
     "metadata": {},
     "output_type": "execute_result"
    }
   ],
   "source": [
    "df.isna().sum()"
   ]
  },
  {
   "cell_type": "code",
   "execution_count": 44,
   "id": "933bbb6e",
   "metadata": {},
   "outputs": [],
   "source": [
    "from sklearn.impute import KNNImputer\n",
    "\n",
    "temp_reshaped = df['temp'].values.reshape(-1, 1)\n",
    "\n",
    "imputer = KNNImputer(n_neighbors=2)\n",
    "\n",
    "temp_imputed = imputer.fit_transform(temp_reshaped)\n",
    "\n",
    "df['temp'] = temp_imputed\n"
   ]
  },
  {
   "cell_type": "code",
   "execution_count": 45,
   "id": "3047e158",
   "metadata": {},
   "outputs": [
    {
     "name": "stdout",
     "output_type": "stream",
     "text": [
      "[[9.000e+00 5.000e+00 1.009e+03 8.200e+01 1.000e+00]\n",
      " [9.000e+00 8.000e+00 1.011e+03 6.400e+01 1.000e+00]\n",
      " [9.000e+00 6.000e+00 1.007e+03 5.300e+01 1.000e+00]\n",
      " ...\n",
      " [7.000e+00 1.700e+01 1.000e+03 5.700e+01 1.000e+00]\n",
      " [7.000e+00 1.700e+01 1.000e+03 5.700e+01 1.000e+00]\n",
      " [7.000e+00 1.700e+01 1.000e+03 5.700e+01 1.000e+00]]\n"
     ]
    }
   ],
   "source": [
    "train_features=['date_id', 'wind', 'desc', 'baro', 'hum', 'day',\n",
    "       'month', 'day_date', 'year', 'day_name', 'Start_hour', 'End_hour']\n",
    "test_features=['temp']\n",
    "\n",
    "\n",
    "from sklearn_pandas import DataFrameMapper\n",
    "\n",
    "df['desc']= df['desc'].fillna('missing', inplace=True)\n",
    "df['desc'] = df['desc'].astype(str)\n",
    "\n",
    "mapper = DataFrameMapper([\n",
    "    (['month','wind','baro', 'hum'], None),\n",
    "    ('desc',CountVectorizer(binary=True, ngram_range=(1, 2)))\n",
    "])\n",
    "\n",
    "X=mapper.fit_transform(df)\n",
    "print(X)"
   ]
  },
  {
   "cell_type": "code",
   "execution_count": 46,
   "id": "1380b66b",
   "metadata": {},
   "outputs": [],
   "source": [
    "x = X.copy()\n",
    "y = df[test_features].copy()\n",
    "\n",
    "X_train, X_test, y_train, y_test = train_test_split(x, y, test_size=0.2, random_state=50)"
   ]
  },
  {
   "cell_type": "code",
   "execution_count": 47,
   "id": "c7bf04dc",
   "metadata": {},
   "outputs": [],
   "source": [
    "from sklearn.preprocessing import MinMaxScaler\n",
    "ms = MinMaxScaler(feature_range=(0,1))\n",
    "X_train = ms.fit_transform(X_train)\n",
    "X_test = ms.transform(X_test)"
   ]
  },
  {
   "cell_type": "markdown",
   "id": "4a8bc0b8",
   "metadata": {},
   "source": [
    "LinearRegression"
   ]
  },
  {
   "cell_type": "code",
   "execution_count": 48,
   "id": "24fb3b00",
   "metadata": {},
   "outputs": [
    {
     "name": "stdout",
     "output_type": "stream",
     "text": [
      "Variance score: 0.73\n",
      "different: 1.44\n",
      "Mean absolute error = 1.44\n",
      "Mean squared error = 3.63\n"
     ]
    }
   ],
   "source": [
    "from sklearn.linear_model import LinearRegression\n",
    "import sklearn.metrics as sm\n",
    "\n",
    "model=LinearRegression()\n",
    "model.fit(X_train,y_train)\n",
    "prediction = model.predict(X_test)\n",
    "print('Variance score: %.2f' % model.score(X_test, y_test))\n",
    "print('different: %.2f' % np.mean(np.absolute(prediction-y_test)))\n",
    "print(\"Mean absolute error =\", round(sm.mean_absolute_error(y_test, prediction), 2)) \n",
    "print(\"Mean squared error =\", round(sm.mean_squared_error(y_test, prediction), 2)) "
   ]
  },
  {
   "cell_type": "markdown",
   "id": "c63d1e8b",
   "metadata": {},
   "source": [
    "Decision Tree Regression"
   ]
  },
  {
   "cell_type": "code",
   "execution_count": 49,
   "id": "64973c1d",
   "metadata": {},
   "outputs": [
    {
     "name": "stdout",
     "output_type": "stream",
     "text": [
      "Variance score: 0.83\n",
      "Mean absolute error = 0.76\n",
      "Mean squared error = 2.3\n"
     ]
    }
   ],
   "source": [
    "from sklearn.tree import DecisionTreeRegressor\n",
    "dtree=DecisionTreeRegressor(random_state=0)\n",
    "dtree.fit(X_train,y_train)\n",
    "prediction2=dtree.predict(X_test)\n",
    "print('Variance score: %.2f' % dtree.score(X_test, y_test))\n",
    "print(\"Mean absolute error =\", round(sm.mean_absolute_error(y_test, prediction2), 2)) \n",
    "print(\"Mean squared error =\", round(sm.mean_squared_error(y_test, prediction2), 2)) "
   ]
  },
  {
   "cell_type": "markdown",
   "id": "8a0ed2c7",
   "metadata": {},
   "source": [
    "Random Forest Regression"
   ]
  },
  {
   "cell_type": "code",
   "execution_count": 50,
   "id": "483569a9",
   "metadata": {},
   "outputs": [
    {
     "name": "stdout",
     "output_type": "stream",
     "text": [
      "Variance score: 0.90\n",
      "Mean absolute error = 0.62\n",
      "Mean squared error = 1.3\n"
     ]
    }
   ],
   "source": [
    "from sklearn.ensemble import RandomForestRegressor\n",
    "from sklearn.metrics import r2_score\n",
    "\n",
    "rnd=RandomForestRegressor(max_depth=90,random_state=0,n_estimators=100)\n",
    "rnd.fit(X_train,y_train)\n",
    "prediction3=rnd.predict(X_test)\n",
    "print('Variance score: %.2f' % rnd.score(X_test, y_test))\n",
    "print(\"Mean absolute error =\", round(sm.mean_absolute_error(y_test, prediction3), 2)) \n",
    "print(\"Mean squared error =\", round(sm.mean_squared_error(y_test, prediction3), 2)) \n",
    "     "
   ]
  }
 ],
 "metadata": {
  "kernelspec": {
   "display_name": "Python 3 (ipykernel)",
   "language": "python",
   "name": "python3"
  },
  "language_info": {
   "codemirror_mode": {
    "name": "ipython",
    "version": 3
   },
   "file_extension": ".py",
   "mimetype": "text/x-python",
   "name": "python",
   "nbconvert_exporter": "python",
   "pygments_lexer": "ipython3",
   "version": "3.11.4"
  }
 },
 "nbformat": 4,
 "nbformat_minor": 5
}
