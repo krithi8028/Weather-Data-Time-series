{
 "cells": [
  {
   "cell_type": "code",
   "execution_count": 1,
   "id": "2768acec",
   "metadata": {},
   "outputs": [
    {
     "data": {
      "text/html": [
       "<div>\n",
       "<style scoped>\n",
       "    .dataframe tbody tr th:only-of-type {\n",
       "        vertical-align: middle;\n",
       "    }\n",
       "\n",
       "    .dataframe tbody tr th {\n",
       "        vertical-align: top;\n",
       "    }\n",
       "\n",
       "    .dataframe thead th {\n",
       "        text-align: right;\n",
       "    }\n",
       "</style>\n",
       "<table border=\"1\" class=\"dataframe\">\n",
       "  <thead>\n",
       "    <tr style=\"text-align: right;\">\n",
       "      <th></th>\n",
       "      <th>date</th>\n",
       "      <th>date_id</th>\n",
       "      <th>wind</th>\n",
       "      <th>desc</th>\n",
       "      <th>temp</th>\n",
       "      <th>baro</th>\n",
       "      <th>hum</th>\n",
       "      <th>day</th>\n",
       "      <th>month</th>\n",
       "      <th>day_date</th>\n",
       "      <th>year</th>\n",
       "      <th>day_name</th>\n",
       "      <th>Start_hour</th>\n",
       "      <th>End_hour</th>\n",
       "    </tr>\n",
       "  </thead>\n",
       "  <tbody>\n",
       "    <tr>\n",
       "      <th>508</th>\n",
       "      <td>Monday 14 September 2009, 00.00 — 06.00</td>\n",
       "      <td>1.252886e+12</td>\n",
       "      <td>5.0</td>\n",
       "      <td>Passing clouds.</td>\n",
       "      <td>30.0</td>\n",
       "      <td>1009.0</td>\n",
       "      <td>82</td>\n",
       "      <td>2009-09-14</td>\n",
       "      <td>9</td>\n",
       "      <td>14</td>\n",
       "      <td>2009</td>\n",
       "      <td>0</td>\n",
       "      <td>00:00</td>\n",
       "      <td>06:00</td>\n",
       "    </tr>\n",
       "    <tr>\n",
       "      <th>509</th>\n",
       "      <td>Monday 14 September 2009, 06.00 — 12.00</td>\n",
       "      <td>1.252908e+12</td>\n",
       "      <td>8.0</td>\n",
       "      <td>Clear.</td>\n",
       "      <td>35.0</td>\n",
       "      <td>1011.0</td>\n",
       "      <td>64</td>\n",
       "      <td>2009-09-14</td>\n",
       "      <td>9</td>\n",
       "      <td>14</td>\n",
       "      <td>2009</td>\n",
       "      <td>0</td>\n",
       "      <td>06:00</td>\n",
       "      <td>12:00</td>\n",
       "    </tr>\n",
       "    <tr>\n",
       "      <th>510</th>\n",
       "      <td>Monday 14 September 2009, 12.00 — 18.00</td>\n",
       "      <td>1.252930e+12</td>\n",
       "      <td>6.0</td>\n",
       "      <td>Scattered clouds.</td>\n",
       "      <td>37.0</td>\n",
       "      <td>1007.0</td>\n",
       "      <td>53</td>\n",
       "      <td>2009-09-14</td>\n",
       "      <td>9</td>\n",
       "      <td>14</td>\n",
       "      <td>2009</td>\n",
       "      <td>0</td>\n",
       "      <td>12:00</td>\n",
       "      <td>18:00</td>\n",
       "    </tr>\n",
       "  </tbody>\n",
       "</table>\n",
       "</div>"
      ],
      "text/plain": [
       "                                        date       date_id  wind  \\\n",
       "508  Monday 14 September 2009, 00.00 — 06.00  1.252886e+12   5.0   \n",
       "509  Monday 14 September 2009, 06.00 — 12.00  1.252908e+12   8.0   \n",
       "510  Monday 14 September 2009, 12.00 — 18.00  1.252930e+12   6.0   \n",
       "\n",
       "                  desc  temp    baro  hum         day  month  day_date  year  \\\n",
       "508    Passing clouds.  30.0  1009.0   82  2009-09-14      9        14  2009   \n",
       "509             Clear.  35.0  1011.0   64  2009-09-14      9        14  2009   \n",
       "510  Scattered clouds.  37.0  1007.0   53  2009-09-14      9        14  2009   \n",
       "\n",
       "     day_name Start_hour End_hour  \n",
       "508         0      00:00    06:00  \n",
       "509         0      06:00    12:00  \n",
       "510         0      12:00    18:00  "
      ]
     },
     "execution_count": 1,
     "metadata": {},
     "output_type": "execute_result"
    }
   ],
   "source": [
    "import pandas as pd\n",
    "import numpy as np\n",
    "from sklearn.feature_extraction.text import CountVectorizer\n",
    "from sklearn.model_selection import train_test_split\n",
    "import sklearn\n",
    "from sklearn.model_selection import train_test_split\n",
    "from sklearn.metrics import accuracy_score\n",
    "from sklearn.linear_model import LinearRegression\n",
    "from sklearn import preprocessing\n",
    "import warnings\n",
    "warnings.filterwarnings('ignore')\n",
    "\n",
    "df=pd.read_csv('Clean15YearChennaiWeather.csv')\n",
    "df=df.sort_values(['year','month','day_name','day_date','Start_hour'],ascending=[True,True,True,True,True])\n",
    "df.head(3)"
   ]
  },
  {
   "cell_type": "code",
   "execution_count": 2,
   "id": "3ca9731c",
   "metadata": {},
   "outputs": [
    {
     "data": {
      "text/plain": [
       "Index(['date', 'date_id', 'wind', 'desc', 'temp', 'baro', 'hum', 'day',\n",
       "       'month', 'day_date', 'year', 'day_name', 'Start_hour', 'End_hour'],\n",
       "      dtype='object')"
      ]
     },
     "execution_count": 2,
     "metadata": {},
     "output_type": "execute_result"
    }
   ],
   "source": [
    "df.columns"
   ]
  },
  {
   "cell_type": "code",
   "execution_count": 3,
   "id": "ead4a458",
   "metadata": {},
   "outputs": [
    {
     "data": {
      "text/html": [
       "<div>\n",
       "<style scoped>\n",
       "    .dataframe tbody tr th:only-of-type {\n",
       "        vertical-align: middle;\n",
       "    }\n",
       "\n",
       "    .dataframe tbody tr th {\n",
       "        vertical-align: top;\n",
       "    }\n",
       "\n",
       "    .dataframe thead th {\n",
       "        text-align: right;\n",
       "    }\n",
       "</style>\n",
       "<table border=\"1\" class=\"dataframe\">\n",
       "  <thead>\n",
       "    <tr style=\"text-align: right;\">\n",
       "      <th></th>\n",
       "      <th>wind</th>\n",
       "      <th>temp</th>\n",
       "      <th>baro</th>\n",
       "      <th>hum</th>\n",
       "    </tr>\n",
       "  </thead>\n",
       "  <tbody>\n",
       "    <tr>\n",
       "      <th>wind</th>\n",
       "      <td>1.000000</td>\n",
       "      <td>0.547964</td>\n",
       "      <td>0.267167</td>\n",
       "      <td>-0.162249</td>\n",
       "    </tr>\n",
       "    <tr>\n",
       "      <th>temp</th>\n",
       "      <td>0.547964</td>\n",
       "      <td>1.000000</td>\n",
       "      <td>-0.216422</td>\n",
       "      <td>-0.829084</td>\n",
       "    </tr>\n",
       "    <tr>\n",
       "      <th>baro</th>\n",
       "      <td>0.267167</td>\n",
       "      <td>-0.216422</td>\n",
       "      <td>1.000000</td>\n",
       "      <td>0.726712</td>\n",
       "    </tr>\n",
       "    <tr>\n",
       "      <th>hum</th>\n",
       "      <td>-0.162249</td>\n",
       "      <td>-0.829084</td>\n",
       "      <td>0.726712</td>\n",
       "      <td>1.000000</td>\n",
       "    </tr>\n",
       "  </tbody>\n",
       "</table>\n",
       "</div>"
      ],
      "text/plain": [
       "          wind      temp      baro       hum\n",
       "wind  1.000000  0.547964  0.267167 -0.162249\n",
       "temp  0.547964  1.000000 -0.216422 -0.829084\n",
       "baro  0.267167 -0.216422  1.000000  0.726712\n",
       "hum  -0.162249 -0.829084  0.726712  1.000000"
      ]
     },
     "execution_count": 3,
     "metadata": {},
     "output_type": "execute_result"
    }
   ],
   "source": [
    "df[['wind','temp','baro','hum']].corr()"
   ]
  },
  {
   "cell_type": "code",
   "execution_count": 4,
   "id": "e9d42068",
   "metadata": {},
   "outputs": [
    {
     "data": {
      "text/plain": [
       "date           0\n",
       "date_id        0\n",
       "wind           0\n",
       "desc           0\n",
       "temp          30\n",
       "baro           0\n",
       "hum            0\n",
       "day            0\n",
       "month          0\n",
       "day_date       0\n",
       "year           0\n",
       "day_name       0\n",
       "Start_hour     0\n",
       "End_hour       0\n",
       "dtype: int64"
      ]
     },
     "execution_count": 4,
     "metadata": {},
     "output_type": "execute_result"
    }
   ],
   "source": [
    "df.isna().sum()"
   ]
  },
  {
   "cell_type": "code",
   "execution_count": 5,
   "id": "933bbb6e",
   "metadata": {},
   "outputs": [],
   "source": [
    "from sklearn.impute import KNNImputer\n",
    "\n",
    "temp_reshaped = df['temp'].values.reshape(-1, 1)\n",
    "\n",
    "imputer = KNNImputer(n_neighbors=2)\n",
    "\n",
    "temp_imputed = imputer.fit_transform(temp_reshaped)\n",
    "\n",
    "df['temp'] = temp_imputed\n"
   ]
  },
  {
   "cell_type": "code",
   "execution_count": 6,
   "id": "3047e158",
   "metadata": {},
   "outputs": [
    {
     "name": "stdout",
     "output_type": "stream",
     "text": [
      "[[9.000e+00 5.000e+00 1.009e+03 8.200e+01 1.000e+00]\n",
      " [9.000e+00 8.000e+00 1.011e+03 6.400e+01 1.000e+00]\n",
      " [9.000e+00 6.000e+00 1.007e+03 5.300e+01 1.000e+00]\n",
      " ...\n",
      " [7.000e+00 1.700e+01 1.000e+03 5.700e+01 1.000e+00]\n",
      " [7.000e+00 1.700e+01 1.000e+03 5.700e+01 1.000e+00]\n",
      " [7.000e+00 1.700e+01 1.000e+03 5.700e+01 1.000e+00]]\n"
     ]
    }
   ],
   "source": [
    "train_features=['date_id', 'wind', 'desc', 'baro', 'hum', 'day',\n",
    "       'month', 'day_date', 'year', 'day_name', 'Start_hour', 'End_hour']\n",
    "test_features=['temp']\n",
    "\n",
    "\n",
    "from sklearn_pandas import DataFrameMapper\n",
    "\n",
    "df['desc']= df['desc'].fillna('missing', inplace=True)\n",
    "df['desc'] = df['desc'].astype(str)\n",
    "\n",
    "mapper = DataFrameMapper([\n",
    "    (['month','wind','baro', 'hum'], None),\n",
    "    ('desc',CountVectorizer(binary=True, ngram_range=(1, 2)))\n",
    "])\n",
    "\n",
    "X=mapper.fit_transform(df)\n",
    "print(X)"
   ]
  },
  {
   "cell_type": "code",
   "execution_count": 7,
   "id": "1380b66b",
   "metadata": {},
   "outputs": [],
   "source": [
    "x = X.copy()\n",
    "y = df[test_features].copy()\n",
    "\n",
    "X_train, X_test, y_train, y_test = train_test_split(x, y, test_size=0.2, random_state=50)"
   ]
  },
  {
   "cell_type": "code",
   "execution_count": 8,
   "id": "c7bf04dc",
   "metadata": {},
   "outputs": [],
   "source": [
    "from sklearn.preprocessing import MinMaxScaler\n",
    "ms = MinMaxScaler(feature_range=(0,1))\n",
    "X_train = ms.fit_transform(X_train)\n",
    "X_test = ms.transform(X_test)"
   ]
  },
  {
   "cell_type": "markdown",
   "id": "4a8bc0b8",
   "metadata": {},
   "source": [
    "LinearRegression"
   ]
  },
  {
   "cell_type": "code",
   "execution_count": 9,
   "id": "24fb3b00",
   "metadata": {},
   "outputs": [
    {
     "name": "stdout",
     "output_type": "stream",
     "text": [
      "Variance score: 0.73\n",
      "different: 1.44\n",
      "Mean absolute error = 1.44\n",
      "Mean squared error = 3.63\n"
     ]
    }
   ],
   "source": [
    "from sklearn.linear_model import LinearRegression\n",
    "import sklearn.metrics as sm\n",
    "\n",
    "model=LinearRegression()\n",
    "model.fit(X_train,y_train)\n",
    "prediction = model.predict(X_test)\n",
    "print('Variance score: %.2f' % model.score(X_test, y_test))\n",
    "print('different: %.2f' % np.mean(np.absolute(prediction-y_test)))\n",
    "print(\"Mean absolute error =\", round(sm.mean_absolute_error(y_test, prediction), 2)) \n",
    "print(\"Mean squared error =\", round(sm.mean_squared_error(y_test, prediction), 2)) "
   ]
  },
  {
   "cell_type": "markdown",
   "id": "c63d1e8b",
   "metadata": {},
   "source": [
    "Decision Tree Regression"
   ]
  },
  {
   "cell_type": "code",
   "execution_count": 10,
   "id": "64973c1d",
   "metadata": {},
   "outputs": [
    {
     "name": "stdout",
     "output_type": "stream",
     "text": [
      "Variance score: 0.83\n",
      "Mean absolute error = 0.76\n",
      "Mean squared error = 2.3\n"
     ]
    }
   ],
   "source": [
    "from sklearn.tree import DecisionTreeRegressor\n",
    "dtree=DecisionTreeRegressor(random_state=0)\n",
    "dtree.fit(X_train,y_train)\n",
    "prediction2=dtree.predict(X_test)\n",
    "print('Variance score: %.2f' % dtree.score(X_test, y_test))\n",
    "print(\"Mean absolute error =\", round(sm.mean_absolute_error(y_test, prediction2), 2)) \n",
    "print(\"Mean squared error =\", round(sm.mean_squared_error(y_test, prediction2), 2)) "
   ]
  },
  {
   "cell_type": "markdown",
   "id": "8a0ed2c7",
   "metadata": {},
   "source": [
    "Random Forest Regression"
   ]
  },
  {
   "cell_type": "code",
   "execution_count": 11,
   "id": "483569a9",
   "metadata": {},
   "outputs": [
    {
     "name": "stdout",
     "output_type": "stream",
     "text": [
      "Variance score: 0.90\n",
      "Mean absolute error = 0.62\n",
      "Mean squared error = 1.3\n"
     ]
    }
   ],
   "source": [
    "from sklearn.ensemble import RandomForestRegressor\n",
    "from sklearn.metrics import r2_score\n",
    "\n",
    "rnd=RandomForestRegressor(max_depth=90,random_state=0,n_estimators=100)\n",
    "rnd.fit(X_train,y_train)\n",
    "prediction3=rnd.predict(X_test)\n",
    "print('Variance score: %.2f' % rnd.score(X_test, y_test))\n",
    "print(\"Mean absolute error =\", round(sm.mean_absolute_error(y_test, prediction3), 2)) \n",
    "print(\"Mean squared error =\", round(sm.mean_squared_error(y_test, prediction3), 2)) \n",
    "     "
   ]
  },
  {
   "cell_type": "code",
   "execution_count": 12,
   "id": "59dd10d7",
   "metadata": {},
   "outputs": [
    {
     "name": "stdout",
     "output_type": "stream",
     "text": [
      "Support Vector Machine Regression\n",
      "Variance score: 0.86\n",
      "Mean absolute error = 1.03\n",
      "Mean squared error = 1.9\n"
     ]
    }
   ],
   "source": [
    "# Import necessary libraries\n",
    "from sklearn.svm import SVR\n",
    "from sklearn.preprocessing import StandardScaler\n",
    "from tensorflow.keras.models import Sequential\n",
    "from tensorflow.keras.layers import LSTM, Dense\n",
    "from tensorflow.keras.optimizers import Adam\n",
    "\n",
    "# SVM Regression\n",
    "print(\"Support Vector Machine Regression\")\n",
    "\n",
    "# Scale the features for SVM\n",
    "scaler = StandardScaler()\n",
    "X_train_scaled = scaler.fit_transform(X_train)\n",
    "X_test_scaled = scaler.transform(X_test)\n",
    "\n",
    "# Create and train the SVM model\n",
    "svm_model = SVR(kernel='rbf')\n",
    "svm_model.fit(X_train_scaled, y_train.values.ravel())\n",
    "\n",
    "# Make predictions\n",
    "svm_predictions = svm_model.predict(X_test_scaled)\n",
    "\n",
    "# Evaluate the model\n",
    "print('Variance score: %.2f' % svm_model.score(X_test_scaled, y_test))\n",
    "print(\"Mean absolute error =\", round(sm.mean_absolute_error(y_test, svm_predictions), 2))\n",
    "print(\"Mean squared error =\", round(sm.mean_squared_error(y_test, svm_predictions), 2))\n",
    "\n",
    "\n"
   ]
  },
  {
   "cell_type": "code",
   "execution_count": 13,
   "id": "3d0804b1",
   "metadata": {},
   "outputs": [
    {
     "name": "stdout",
     "output_type": "stream",
     "text": [
      "\u001b[1m7/7\u001b[0m \u001b[32m━━━━━━━━━━━━━━━━━━━━\u001b[0m\u001b[37m\u001b[0m \u001b[1m1s\u001b[0m 64ms/step\n",
      "R-squared score: -0.37\n",
      "Mean absolute error = 3.31\n",
      "Mean squared error = 18.32\n"
     ]
    }
   ],
   "source": [
    "X_train_lstm = X_train.reshape((X_train.shape[0], 1, X_train.shape[1]))\n",
    "X_test_lstm = X_test.reshape((X_test.shape[0], 1, X_test.shape[1]))\n",
    "\n",
    "# Create and compile the LSTM model\n",
    "lstm_model = Sequential([\n",
    "    LSTM(50, activation='relu', input_shape=(1, X_train.shape[1])),\n",
    "    Dense(1)\n",
    "])\n",
    "lstm_model.compile(optimizer=Adam(learning_rate=0.001), loss='mse')\n",
    "\n",
    "# Train the model\n",
    "history = lstm_model.fit(X_train_lstm, y_train, epochs=100, batch_size=32, validation_split=0.2, verbose=0)\n",
    "\n",
    "# Make predictions\n",
    "lstm_predictions = lstm_model.predict(X_test_lstm)\n",
    "\n",
    "# Evaluate the model\n",
    "mse = sm.mean_squared_error(y_test, lstm_predictions)\n",
    "mae = sm.mean_absolute_error(y_test, lstm_predictions)\n",
    "r2 = r2_score(y_test, lstm_predictions)\n",
    "\n",
    "print('R-squared score:', round(r2, 2))\n",
    "print(\"Mean absolute error =\", round(mae, 2))\n",
    "print(\"Mean squared error =\", round(mse, 2))"
   ]
  },
  {
   "cell_type": "code",
   "execution_count": null,
   "id": "5e4417ea",
   "metadata": {},
   "outputs": [],
   "source": [
    "import numpy as np\n",
    "import tensorflow as tf\n",
    "from sklearn.model_selection import train_test_split\n",
    "from sklearn.preprocessing import StandardScaler\n",
    "from sklearn.metrics import mean_squared_error, r2_score\n",
    "import matplotlib.pyplot as plt\n",
    "\n",
    "# Assuming X and y are your features and target variables\n",
    "\n",
    "# Normalize the input features\n",
    "scaler = StandardScaler()\n",
    "X_scaled = scaler.fit_transform(X)\n",
    "\n",
    "# Split the data\n",
    "X_train, X_test, y_train, y_test = train_test_split(X_scaled, y, test_size=0.2, random_state=42)\n",
    "\n",
    "# Reshape input to be [samples, time steps, features]\n",
    "X_train_reshaped = X_train.reshape((X_train.shape[0], 1, X_train.shape[1]))\n",
    "X_test_reshaped = X_test.reshape((X_test.shape[0], 1, X_test.shape[1]))\n",
    "\n",
    "def create_model(units=50, dropout_rate=0.2, learning_rate=0.001):\n",
    "    model = tf.keras.Sequential([\n",
    "        tf.keras.layers.LSTM(units, activation='relu', input_shape=(1, X_train.shape[1]), return_sequences=True),\n",
    "        tf.keras.layers.Dropout(dropout_rate),\n",
    "        tf.keras.layers.LSTM(units, activation='relu'),\n",
    "        tf.keras.layers.Dropout(dropout_rate),\n",
    "        tf.keras.layers.Dense(1)\n",
    "    ])\n",
    "    model.compile(optimizer=tf.keras.optimizers.Adam(learning_rate=learning_rate), loss='mse')\n",
    "    return model\n",
    "\n",
    "# Define hyperparameters to try\n",
    "units_list = [32, 64, 128]\n",
    "dropout_rates = [0.1, 0.2, 0.3]\n",
    "learning_rates = [0.001, 0.01, 0.1]\n",
    "batch_sizes = [16, 32, 64]\n",
    "\n",
    "best_mse = float('inf')\n",
    "best_params = {}\n",
    "\n",
    "# Manual hyperparameter search\n",
    "for units in units_list:\n",
    "    for dropout_rate in dropout_rates:\n",
    "        for learning_rate in learning_rates:\n",
    "            for batch_size in batch_sizes:\n",
    "                model = create_model(units, dropout_rate, learning_rate)\n",
    "                \n",
    "                early_stopping = tf.keras.callbacks.EarlyStopping(monitor='val_loss', patience=20, restore_best_weights=True)\n",
    "                \n",
    "                history = model.fit(\n",
    "                    X_train_reshaped, y_train,\n",
    "                    epochs=100,  # Reduced for quicker iterations\n",
    "                    batch_size=batch_size,\n",
    "                    validation_split=0.2,\n",
    "                    callbacks=[early_stopping],\n",
    "                    verbose=0\n",
    "                )\n",
    "                \n",
    "                mse = model.evaluate(X_test_reshaped, y_test, verbose=0)\n",
    "                \n",
    "                if mse < best_mse:\n",
    "                    best_mse = mse\n",
    "                    best_params = {\n",
    "                        'units': units,\n",
    "                        'dropout_rate': dropout_rate,\n",
    "                        'learning_rate': learning_rate,\n",
    "                        'batch_size': batch_size\n",
    "                    }\n",
    "\n",
    "print(\"Best parameters:\", best_params)\n",
    "\n",
    "# Train final model with best parameters\n",
    "final_model = create_model(\n",
    "    units=best_params['units'],\n",
    "    dropout_rate=best_params['dropout_rate'],\n",
    "    learning_rate=best_params['learning_rate']\n",
    ")\n",
    "\n",
    "early_stopping = tf.keras.callbacks.EarlyStopping(monitor='val_loss', patience=20, restore_best_weights=True)\n",
    "\n",
    "history = final_model.fit(\n",
    "    X_train_reshaped, y_train,\n",
    "    epochs=500,\n",
    "    batch_size=best_params['batch_size'],\n",
    "    validation_split=0.2,\n",
    "    callbacks=[early_stopping],\n",
    "    verbose=1\n",
    ")\n",
    "\n",
    "# Evaluate the model\n",
    "lstm_predictions = final_model.predict(X_test_reshaped)\n",
    "mse = mean_squared_error(y_test, lstm_predictions)\n",
    "r2 = r2_score(y_test, lstm_predictions)\n",
    "\n",
    "print('R-squared score:', round(r2, 2))\n",
    "print(\"Mean squared error =\", round(mse, 2))\n",
    "\n"
   ]
  },
  {
   "cell_type": "code",
   "execution_count": null,
   "id": "41090604",
   "metadata": {},
   "outputs": [],
   "source": []
  }
 ],
 "metadata": {
  "kernelspec": {
   "display_name": "Python 3 (ipykernel)",
   "language": "python",
   "name": "python3"
  },
  "language_info": {
   "codemirror_mode": {
    "name": "ipython",
    "version": 3
   },
   "file_extension": ".py",
   "mimetype": "text/x-python",
   "name": "python",
   "nbconvert_exporter": "python",
   "pygments_lexer": "ipython3",
   "version": "3.11.4"
  }
 },
 "nbformat": 4,
 "nbformat_minor": 5
}
